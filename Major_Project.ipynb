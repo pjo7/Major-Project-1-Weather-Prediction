{
  "nbformat": 4,
  "nbformat_minor": 0,
  "metadata": {
    "colab": {
      "name": "Major_Project.ipynb",
      "provenance": [],
      "authorship_tag": "ABX9TyOOftermaTsJgHAJYqlkV5W",
      "include_colab_link": true
    },
    "kernelspec": {
      "name": "python3",
      "display_name": "Python 3"
    },
    "language_info": {
      "name": "python"
    }
  },
  "cells": [
    {
      "cell_type": "markdown",
      "metadata": {
        "id": "view-in-github",
        "colab_type": "text"
      },
      "source": [
        "<a href=\"https://colab.research.google.com/github/pjo7/Major-Project-1-Weather-Prediction/blob/main/Major_Project.ipynb\" target=\"_parent\"><img src=\"https://colab.research.google.com/assets/colab-badge.svg\" alt=\"Open In Colab\"/></a>"
      ]
    },
    {
      "cell_type": "code",
      "execution_count": 2,
      "metadata": {
        "colab": {
          "base_uri": "https://localhost:8080/",
          "height": 424
        },
        "id": "QAEt3hC5xnxO",
        "outputId": "c5e3cd5b-0773-408d-8e4c-6245df23a188"
      },
      "outputs": [
        {
          "output_type": "execute_result",
          "data": {
            "text/plain": [
              "     YEAR    JAN    FEB    MAR    APR    MAY    JUN    JUL    AUG    SEP  \\\n",
              "0    1901  17.99  19.43  23.49  26.41  28.28  28.60  27.49  26.98  26.26   \n",
              "1    1902  19.00  20.39  24.10  26.54  28.68  28.44  27.29  27.05  25.95   \n",
              "2    1903  18.32  19.79  22.46  26.03  27.93  28.41  28.04  26.63  26.34   \n",
              "3    1904  17.77  19.39  22.95  26.73  27.83  27.85  26.84  26.73  25.84   \n",
              "4    1905  17.40  17.79  21.78  24.84  28.32  28.69  27.67  27.47  26.29   \n",
              "..    ...    ...    ...    ...    ...    ...    ...    ...    ...    ...   \n",
              "112  2013  18.88  21.07  24.53  26.97  29.06  28.24  27.50  27.22  26.87   \n",
              "113  2014  18.81  20.35  23.34  26.91  28.45  29.42  28.07  27.42  26.61   \n",
              "114  2015  19.02  21.23  23.52  26.52  28.82  28.15  28.03  27.64  27.04   \n",
              "115  2016  20.92  23.58  26.61  29.56  30.41  29.70  28.18  28.17  27.72   \n",
              "116  2017  20.59  23.08  25.58  29.17  30.47  29.44  28.31  28.12  28.11   \n",
              "\n",
              "       OCT    NOV    DEC        AVG  \n",
              "0    25.08  21.73  18.95  24.224167  \n",
              "1    24.37  21.33  18.78  24.326667  \n",
              "2    24.57  20.96  18.29  23.980833  \n",
              "3    24.36  21.07  18.84  23.850000  \n",
              "4    26.16  22.07  18.71  23.932500  \n",
              "..     ...    ...    ...        ...  \n",
              "112  25.63  22.18  19.69  24.820000  \n",
              "113  25.38  22.53  19.50  24.732500  \n",
              "114  25.82  22.95  20.21  24.912500  \n",
              "115  26.81  23.90  21.89  26.454167  \n",
              "116  27.24  23.92  21.47  26.291667  \n",
              "\n",
              "[117 rows x 14 columns]"
            ],
            "text/html": [
              "\n",
              "  <div id=\"df-5fdbe2f1-e2f8-42a6-8c25-27ea0adac9fb\">\n",
              "    <div class=\"colab-df-container\">\n",
              "      <div>\n",
              "<style scoped>\n",
              "    .dataframe tbody tr th:only-of-type {\n",
              "        vertical-align: middle;\n",
              "    }\n",
              "\n",
              "    .dataframe tbody tr th {\n",
              "        vertical-align: top;\n",
              "    }\n",
              "\n",
              "    .dataframe thead th {\n",
              "        text-align: right;\n",
              "    }\n",
              "</style>\n",
              "<table border=\"1\" class=\"dataframe\">\n",
              "  <thead>\n",
              "    <tr style=\"text-align: right;\">\n",
              "      <th></th>\n",
              "      <th>YEAR</th>\n",
              "      <th>JAN</th>\n",
              "      <th>FEB</th>\n",
              "      <th>MAR</th>\n",
              "      <th>APR</th>\n",
              "      <th>MAY</th>\n",
              "      <th>JUN</th>\n",
              "      <th>JUL</th>\n",
              "      <th>AUG</th>\n",
              "      <th>SEP</th>\n",
              "      <th>OCT</th>\n",
              "      <th>NOV</th>\n",
              "      <th>DEC</th>\n",
              "      <th>AVG</th>\n",
              "    </tr>\n",
              "  </thead>\n",
              "  <tbody>\n",
              "    <tr>\n",
              "      <th>0</th>\n",
              "      <td>1901</td>\n",
              "      <td>17.99</td>\n",
              "      <td>19.43</td>\n",
              "      <td>23.49</td>\n",
              "      <td>26.41</td>\n",
              "      <td>28.28</td>\n",
              "      <td>28.60</td>\n",
              "      <td>27.49</td>\n",
              "      <td>26.98</td>\n",
              "      <td>26.26</td>\n",
              "      <td>25.08</td>\n",
              "      <td>21.73</td>\n",
              "      <td>18.95</td>\n",
              "      <td>24.224167</td>\n",
              "    </tr>\n",
              "    <tr>\n",
              "      <th>1</th>\n",
              "      <td>1902</td>\n",
              "      <td>19.00</td>\n",
              "      <td>20.39</td>\n",
              "      <td>24.10</td>\n",
              "      <td>26.54</td>\n",
              "      <td>28.68</td>\n",
              "      <td>28.44</td>\n",
              "      <td>27.29</td>\n",
              "      <td>27.05</td>\n",
              "      <td>25.95</td>\n",
              "      <td>24.37</td>\n",
              "      <td>21.33</td>\n",
              "      <td>18.78</td>\n",
              "      <td>24.326667</td>\n",
              "    </tr>\n",
              "    <tr>\n",
              "      <th>2</th>\n",
              "      <td>1903</td>\n",
              "      <td>18.32</td>\n",
              "      <td>19.79</td>\n",
              "      <td>22.46</td>\n",
              "      <td>26.03</td>\n",
              "      <td>27.93</td>\n",
              "      <td>28.41</td>\n",
              "      <td>28.04</td>\n",
              "      <td>26.63</td>\n",
              "      <td>26.34</td>\n",
              "      <td>24.57</td>\n",
              "      <td>20.96</td>\n",
              "      <td>18.29</td>\n",
              "      <td>23.980833</td>\n",
              "    </tr>\n",
              "    <tr>\n",
              "      <th>3</th>\n",
              "      <td>1904</td>\n",
              "      <td>17.77</td>\n",
              "      <td>19.39</td>\n",
              "      <td>22.95</td>\n",
              "      <td>26.73</td>\n",
              "      <td>27.83</td>\n",
              "      <td>27.85</td>\n",
              "      <td>26.84</td>\n",
              "      <td>26.73</td>\n",
              "      <td>25.84</td>\n",
              "      <td>24.36</td>\n",
              "      <td>21.07</td>\n",
              "      <td>18.84</td>\n",
              "      <td>23.850000</td>\n",
              "    </tr>\n",
              "    <tr>\n",
              "      <th>4</th>\n",
              "      <td>1905</td>\n",
              "      <td>17.40</td>\n",
              "      <td>17.79</td>\n",
              "      <td>21.78</td>\n",
              "      <td>24.84</td>\n",
              "      <td>28.32</td>\n",
              "      <td>28.69</td>\n",
              "      <td>27.67</td>\n",
              "      <td>27.47</td>\n",
              "      <td>26.29</td>\n",
              "      <td>26.16</td>\n",
              "      <td>22.07</td>\n",
              "      <td>18.71</td>\n",
              "      <td>23.932500</td>\n",
              "    </tr>\n",
              "    <tr>\n",
              "      <th>...</th>\n",
              "      <td>...</td>\n",
              "      <td>...</td>\n",
              "      <td>...</td>\n",
              "      <td>...</td>\n",
              "      <td>...</td>\n",
              "      <td>...</td>\n",
              "      <td>...</td>\n",
              "      <td>...</td>\n",
              "      <td>...</td>\n",
              "      <td>...</td>\n",
              "      <td>...</td>\n",
              "      <td>...</td>\n",
              "      <td>...</td>\n",
              "      <td>...</td>\n",
              "    </tr>\n",
              "    <tr>\n",
              "      <th>112</th>\n",
              "      <td>2013</td>\n",
              "      <td>18.88</td>\n",
              "      <td>21.07</td>\n",
              "      <td>24.53</td>\n",
              "      <td>26.97</td>\n",
              "      <td>29.06</td>\n",
              "      <td>28.24</td>\n",
              "      <td>27.50</td>\n",
              "      <td>27.22</td>\n",
              "      <td>26.87</td>\n",
              "      <td>25.63</td>\n",
              "      <td>22.18</td>\n",
              "      <td>19.69</td>\n",
              "      <td>24.820000</td>\n",
              "    </tr>\n",
              "    <tr>\n",
              "      <th>113</th>\n",
              "      <td>2014</td>\n",
              "      <td>18.81</td>\n",
              "      <td>20.35</td>\n",
              "      <td>23.34</td>\n",
              "      <td>26.91</td>\n",
              "      <td>28.45</td>\n",
              "      <td>29.42</td>\n",
              "      <td>28.07</td>\n",
              "      <td>27.42</td>\n",
              "      <td>26.61</td>\n",
              "      <td>25.38</td>\n",
              "      <td>22.53</td>\n",
              "      <td>19.50</td>\n",
              "      <td>24.732500</td>\n",
              "    </tr>\n",
              "    <tr>\n",
              "      <th>114</th>\n",
              "      <td>2015</td>\n",
              "      <td>19.02</td>\n",
              "      <td>21.23</td>\n",
              "      <td>23.52</td>\n",
              "      <td>26.52</td>\n",
              "      <td>28.82</td>\n",
              "      <td>28.15</td>\n",
              "      <td>28.03</td>\n",
              "      <td>27.64</td>\n",
              "      <td>27.04</td>\n",
              "      <td>25.82</td>\n",
              "      <td>22.95</td>\n",
              "      <td>20.21</td>\n",
              "      <td>24.912500</td>\n",
              "    </tr>\n",
              "    <tr>\n",
              "      <th>115</th>\n",
              "      <td>2016</td>\n",
              "      <td>20.92</td>\n",
              "      <td>23.58</td>\n",
              "      <td>26.61</td>\n",
              "      <td>29.56</td>\n",
              "      <td>30.41</td>\n",
              "      <td>29.70</td>\n",
              "      <td>28.18</td>\n",
              "      <td>28.17</td>\n",
              "      <td>27.72</td>\n",
              "      <td>26.81</td>\n",
              "      <td>23.90</td>\n",
              "      <td>21.89</td>\n",
              "      <td>26.454167</td>\n",
              "    </tr>\n",
              "    <tr>\n",
              "      <th>116</th>\n",
              "      <td>2017</td>\n",
              "      <td>20.59</td>\n",
              "      <td>23.08</td>\n",
              "      <td>25.58</td>\n",
              "      <td>29.17</td>\n",
              "      <td>30.47</td>\n",
              "      <td>29.44</td>\n",
              "      <td>28.31</td>\n",
              "      <td>28.12</td>\n",
              "      <td>28.11</td>\n",
              "      <td>27.24</td>\n",
              "      <td>23.92</td>\n",
              "      <td>21.47</td>\n",
              "      <td>26.291667</td>\n",
              "    </tr>\n",
              "  </tbody>\n",
              "</table>\n",
              "<p>117 rows × 14 columns</p>\n",
              "</div>\n",
              "      <button class=\"colab-df-convert\" onclick=\"convertToInteractive('df-5fdbe2f1-e2f8-42a6-8c25-27ea0adac9fb')\"\n",
              "              title=\"Convert this dataframe to an interactive table.\"\n",
              "              style=\"display:none;\">\n",
              "        \n",
              "  <svg xmlns=\"http://www.w3.org/2000/svg\" height=\"24px\"viewBox=\"0 0 24 24\"\n",
              "       width=\"24px\">\n",
              "    <path d=\"M0 0h24v24H0V0z\" fill=\"none\"/>\n",
              "    <path d=\"M18.56 5.44l.94 2.06.94-2.06 2.06-.94-2.06-.94-.94-2.06-.94 2.06-2.06.94zm-11 1L8.5 8.5l.94-2.06 2.06-.94-2.06-.94L8.5 2.5l-.94 2.06-2.06.94zm10 10l.94 2.06.94-2.06 2.06-.94-2.06-.94-.94-2.06-.94 2.06-2.06.94z\"/><path d=\"M17.41 7.96l-1.37-1.37c-.4-.4-.92-.59-1.43-.59-.52 0-1.04.2-1.43.59L10.3 9.45l-7.72 7.72c-.78.78-.78 2.05 0 2.83L4 21.41c.39.39.9.59 1.41.59.51 0 1.02-.2 1.41-.59l7.78-7.78 2.81-2.81c.8-.78.8-2.07 0-2.86zM5.41 20L4 18.59l7.72-7.72 1.47 1.35L5.41 20z\"/>\n",
              "  </svg>\n",
              "      </button>\n",
              "      \n",
              "  <style>\n",
              "    .colab-df-container {\n",
              "      display:flex;\n",
              "      flex-wrap:wrap;\n",
              "      gap: 12px;\n",
              "    }\n",
              "\n",
              "    .colab-df-convert {\n",
              "      background-color: #E8F0FE;\n",
              "      border: none;\n",
              "      border-radius: 50%;\n",
              "      cursor: pointer;\n",
              "      display: none;\n",
              "      fill: #1967D2;\n",
              "      height: 32px;\n",
              "      padding: 0 0 0 0;\n",
              "      width: 32px;\n",
              "    }\n",
              "\n",
              "    .colab-df-convert:hover {\n",
              "      background-color: #E2EBFA;\n",
              "      box-shadow: 0px 1px 2px rgba(60, 64, 67, 0.3), 0px 1px 3px 1px rgba(60, 64, 67, 0.15);\n",
              "      fill: #174EA6;\n",
              "    }\n",
              "\n",
              "    [theme=dark] .colab-df-convert {\n",
              "      background-color: #3B4455;\n",
              "      fill: #D2E3FC;\n",
              "    }\n",
              "\n",
              "    [theme=dark] .colab-df-convert:hover {\n",
              "      background-color: #434B5C;\n",
              "      box-shadow: 0px 1px 3px 1px rgba(0, 0, 0, 0.15);\n",
              "      filter: drop-shadow(0px 1px 2px rgba(0, 0, 0, 0.3));\n",
              "      fill: #FFFFFF;\n",
              "    }\n",
              "  </style>\n",
              "\n",
              "      <script>\n",
              "        const buttonEl =\n",
              "          document.querySelector('#df-5fdbe2f1-e2f8-42a6-8c25-27ea0adac9fb button.colab-df-convert');\n",
              "        buttonEl.style.display =\n",
              "          google.colab.kernel.accessAllowed ? 'block' : 'none';\n",
              "\n",
              "        async function convertToInteractive(key) {\n",
              "          const element = document.querySelector('#df-5fdbe2f1-e2f8-42a6-8c25-27ea0adac9fb');\n",
              "          const dataTable =\n",
              "            await google.colab.kernel.invokeFunction('convertToInteractive',\n",
              "                                                     [key], {});\n",
              "          if (!dataTable) return;\n",
              "\n",
              "          const docLinkHtml = 'Like what you see? Visit the ' +\n",
              "            '<a target=\"_blank\" href=https://colab.research.google.com/notebooks/data_table.ipynb>data table notebook</a>'\n",
              "            + ' to learn more about interactive tables.';\n",
              "          element.innerHTML = '';\n",
              "          dataTable['output_type'] = 'display_data';\n",
              "          await google.colab.output.renderOutput(dataTable, element);\n",
              "          const docLink = document.createElement('div');\n",
              "          docLink.innerHTML = docLinkHtml;\n",
              "          element.appendChild(docLink);\n",
              "        }\n",
              "      </script>\n",
              "    </div>\n",
              "  </div>\n",
              "  "
            ]
          },
          "metadata": {},
          "execution_count": 2
        }
      ],
      "source": [
        "import pandas as pd\n",
        "import numpy as np\n",
        "df=pd.read_csv('/content/sample_data/Weather Data in India from 1901 to 2017.csv')\n",
        "df=df.drop(columns='Unnamed: 0')\n",
        "df\n"
      ]
    },
    {
      "cell_type": "code",
      "source": [
        "x = df.iloc[0:118,0].values \n",
        "x=x.reshape(-1,1)\n",
        "x"
      ],
      "metadata": {
        "colab": {
          "base_uri": "https://localhost:8080/"
        },
        "id": "KuWSdk8Wxyd8",
        "outputId": "4c253410-595c-4023-a851-7e3ff98efb95"
      },
      "execution_count": 21,
      "outputs": [
        {
          "output_type": "execute_result",
          "data": {
            "text/plain": [
              "array([[1901],\n",
              "       [1902],\n",
              "       [1903],\n",
              "       [1904],\n",
              "       [1905],\n",
              "       [1906],\n",
              "       [1907],\n",
              "       [1908],\n",
              "       [1909],\n",
              "       [1910],\n",
              "       [1911],\n",
              "       [1912],\n",
              "       [1913],\n",
              "       [1914],\n",
              "       [1915],\n",
              "       [1916],\n",
              "       [1917],\n",
              "       [1918],\n",
              "       [1919],\n",
              "       [1920],\n",
              "       [1921],\n",
              "       [1922],\n",
              "       [1923],\n",
              "       [1924],\n",
              "       [1925],\n",
              "       [1926],\n",
              "       [1927],\n",
              "       [1928],\n",
              "       [1929],\n",
              "       [1930],\n",
              "       [1931],\n",
              "       [1932],\n",
              "       [1933],\n",
              "       [1934],\n",
              "       [1935],\n",
              "       [1936],\n",
              "       [1937],\n",
              "       [1938],\n",
              "       [1939],\n",
              "       [1940],\n",
              "       [1941],\n",
              "       [1942],\n",
              "       [1943],\n",
              "       [1944],\n",
              "       [1945],\n",
              "       [1946],\n",
              "       [1947],\n",
              "       [1948],\n",
              "       [1949],\n",
              "       [1950],\n",
              "       [1951],\n",
              "       [1952],\n",
              "       [1953],\n",
              "       [1954],\n",
              "       [1955],\n",
              "       [1956],\n",
              "       [1957],\n",
              "       [1958],\n",
              "       [1959],\n",
              "       [1960],\n",
              "       [1961],\n",
              "       [1962],\n",
              "       [1963],\n",
              "       [1964],\n",
              "       [1965],\n",
              "       [1966],\n",
              "       [1967],\n",
              "       [1968],\n",
              "       [1969],\n",
              "       [1970],\n",
              "       [1971],\n",
              "       [1972],\n",
              "       [1973],\n",
              "       [1974],\n",
              "       [1975],\n",
              "       [1976],\n",
              "       [1977],\n",
              "       [1978],\n",
              "       [1979],\n",
              "       [1980],\n",
              "       [1981],\n",
              "       [1982],\n",
              "       [1983],\n",
              "       [1984],\n",
              "       [1985],\n",
              "       [1986],\n",
              "       [1987],\n",
              "       [1988],\n",
              "       [1989],\n",
              "       [1990],\n",
              "       [1991],\n",
              "       [1992],\n",
              "       [1993],\n",
              "       [1994],\n",
              "       [1995],\n",
              "       [1996],\n",
              "       [1997],\n",
              "       [1998],\n",
              "       [1999],\n",
              "       [2000],\n",
              "       [2001],\n",
              "       [2002],\n",
              "       [2003],\n",
              "       [2004],\n",
              "       [2005],\n",
              "       [2006],\n",
              "       [2007],\n",
              "       [2008],\n",
              "       [2009],\n",
              "       [2010],\n",
              "       [2011],\n",
              "       [2012],\n",
              "       [2013],\n",
              "       [2014],\n",
              "       [2015],\n",
              "       [2016],\n",
              "       [2017]])"
            ]
          },
          "metadata": {},
          "execution_count": 21
        }
      ]
    },
    {
      "cell_type": "code",
      "source": [
        "y = df.iloc[:,13].values\n",
        "y"
      ],
      "metadata": {
        "colab": {
          "base_uri": "https://localhost:8080/"
        },
        "id": "vJtKWKmsxykw",
        "outputId": "ef552b8c-82b0-405d-e324-cd13a8c308f5"
      },
      "execution_count": 22,
      "outputs": [
        {
          "output_type": "execute_result",
          "data": {
            "text/plain": [
              "array([24.22416667, 24.32666667, 23.98083333, 23.85      , 23.9325    ,\n",
              "       24.1       , 24.0075    , 23.95      , 23.77833333, 23.76083333,\n",
              "       23.95416667, 24.10583333, 23.8825    , 24.03416667, 24.28833333,\n",
              "       24.075     , 23.57083333, 23.82583333, 24.0125    , 23.90833333,\n",
              "       24.58416667, 24.22416667, 24.0475    , 24.14083333, 23.95      ,\n",
              "       24.055     , 23.94      , 24.29      , 24.08083333, 23.93083333,\n",
              "       24.43583333, 24.2075    , 23.91583333, 24.13166667, 24.0625    ,\n",
              "       24.12416667, 23.98083333, 23.98333333, 24.01083333, 24.04583333,\n",
              "       24.65916667, 24.2925    , 23.94916667, 24.04083333, 23.91583333,\n",
              "       24.41833333, 24.35833333, 24.10333333, 24.08583333, 23.735     ,\n",
              "       24.24666667, 24.34416667, 24.58      , 24.12666667, 23.9675    ,\n",
              "       23.95083333, 23.9675    , 24.62166667, 24.29416667, 24.28583333,\n",
              "       24.0025    , 24.04416667, 24.14833333, 24.09416667, 24.065     ,\n",
              "       24.355     , 24.11083333, 23.94083333, 24.4575    , 24.265     ,\n",
              "       23.90916667, 24.10166667, 24.40583333, 24.00083333, 23.74416667,\n",
              "       24.0675    , 24.35      , 24.23833333, 24.56666667, 24.5475    ,\n",
              "       24.26583333, 24.15333333, 24.11916667, 24.25416667, 24.44416667,\n",
              "       24.20583333, 24.57083333, 24.42166667, 24.03333333, 24.21833333,\n",
              "       24.28083333, 24.1475    , 24.42916667, 24.46416667, 25.28      ,\n",
              "       24.6575    , 24.25416667, 24.695     , 24.66083333, 24.57666667,\n",
              "       24.81416667, 25.03166667, 24.7       , 24.79916667, 24.57666667,\n",
              "       25.0125    , 24.7675    , 24.6125    , 25.1125    , 25.18916667,\n",
              "       24.71083333, 24.67833333, 24.82      , 24.7325    , 24.9125    ,\n",
              "       26.45416667, 26.29166667])"
            ]
          },
          "metadata": {},
          "execution_count": 22
        }
      ]
    },
    {
      "cell_type": "code",
      "source": [
        "from sklearn.model_selection import train_test_split\n",
        "x_train,x_test,y_train,y_test = train_test_split(x,y,random_state = 0)"
      ],
      "metadata": {
        "id": "UScjo7A-xy1c"
      },
      "execution_count": 23,
      "outputs": []
    },
    {
      "cell_type": "code",
      "source": [
        "from sklearn.linear_model import LinearRegression\n",
        "model = LinearRegression()"
      ],
      "metadata": {
        "id": "EE0rJ2cYzJGn"
      },
      "execution_count": 24,
      "outputs": []
    },
    {
      "cell_type": "code",
      "source": [
        "model.fit(x,y)"
      ],
      "metadata": {
        "colab": {
          "base_uri": "https://localhost:8080/"
        },
        "id": "QXWaNCNxzKoO",
        "outputId": "7ae9f83e-73d6-4f9f-8fbe-d0d4ab459317"
      },
      "execution_count": 25,
      "outputs": [
        {
          "output_type": "execute_result",
          "data": {
            "text/plain": [
              "LinearRegression()"
            ]
          },
          "metadata": {},
          "execution_count": 25
        }
      ]
    },
    {
      "cell_type": "code",
      "source": [
        "model.fit(x_train,y_train)"
      ],
      "metadata": {
        "colab": {
          "base_uri": "https://localhost:8080/"
        },
        "id": "P98yenD7xzaa",
        "outputId": "a4180462-62c7-4ff7-8c41-5e528fe28e94"
      },
      "execution_count": 26,
      "outputs": [
        {
          "output_type": "execute_result",
          "data": {
            "text/plain": [
              "LinearRegression()"
            ]
          },
          "metadata": {},
          "execution_count": 26
        }
      ]
    },
    {
      "cell_type": "code",
      "source": [
        "import joblib\n",
        "joblib.dump(model,'Weather Prediction')"
      ],
      "metadata": {
        "colab": {
          "base_uri": "https://localhost:8080/"
        },
        "id": "gRo1kz5Mys_z",
        "outputId": "bdf28be6-3f5a-458a-dea5-8954a2dbc6ad"
      },
      "execution_count": 27,
      "outputs": [
        {
          "output_type": "execute_result",
          "data": {
            "text/plain": [
              "['Weather Prediction']"
            ]
          },
          "metadata": {},
          "execution_count": 27
        }
      ]
    },
    {
      "cell_type": "code",
      "source": [
        "!pip install streamlit --quiet"
      ],
      "metadata": {
        "id": "nBGQtIk4ytA-"
      },
      "execution_count": 11,
      "outputs": []
    },
    {
      "cell_type": "code",
      "source": [
        "%%writefile app.py\n",
        "#%%writefile app.py is a magic command which creates a file named app.py\n",
        "import streamlit as st\n",
        "import joblib\n",
        "model = joblib.load('Weather Prediction')\n",
        "st.title('WEATHER PREDICTOR')\n",
        "ip = st.text_input('Enter a Year',value=0)\n",
        "op = model.predict([[ip]])\n",
        "if st.button('Predict'):\n",
        "  st.title(op[0])#st.button will create a button with name predict\n",
        "  #st.title(op[0]) - the output will be displayed as a title"
      ],
      "metadata": {
        "colab": {
          "base_uri": "https://localhost:8080/"
        },
        "id": "ALh-d5JSytFY",
        "outputId": "a2f7959c-c5fa-4bef-c8aa-5846509e19a2"
      },
      "execution_count": 28,
      "outputs": [
        {
          "output_type": "stream",
          "name": "stdout",
          "text": [
            "Overwriting app.py\n"
          ]
        }
      ]
    },
    {
      "cell_type": "code",
      "source": [
        "!streamlit run app.py & npx localtunnel --port 8501"
      ],
      "metadata": {
        "colab": {
          "base_uri": "https://localhost:8080/"
        },
        "id": "daQpOxSpz8ah",
        "outputId": "7ea97673-8c2c-4c01-9b5a-82db3555ec4c"
      },
      "execution_count": 29,
      "outputs": [
        {
          "output_type": "stream",
          "name": "stdout",
          "text": [
            "2022-07-09 18:09:49.758 INFO    numexpr.utils: NumExpr defaulting to 2 threads.\n",
            "\u001b[K\u001b[?25hnpx: installed 22 in 2.537s\n",
            "your url is: https://some-dodos-relate-34-86-236-215.loca.lt\n",
            "\u001b[0m\n",
            "\u001b[34m\u001b[1m  You can now view your Streamlit app in your browser.\u001b[0m\n",
            "\u001b[0m\n",
            "\u001b[34m  Network URL: \u001b[0m\u001b[1mhttp://172.28.0.2:8501\u001b[0m\n",
            "\u001b[34m  External URL: \u001b[0m\u001b[1mhttp://34.86.236.215:8501\u001b[0m\n",
            "\u001b[0m\n",
            "/usr/local/lib/python3.7/dist-packages/sklearn/base.py:566: FutureWarning: Arrays of bytes/strings is being converted to decimal numbers if dtype='numeric'. This behavior is deprecated in 0.24 and will be removed in 1.1 (renaming of 0.26). Please convert your data to numeric values explicitly instead.\n",
            "  X = check_array(X, **check_params)\n",
            "/usr/local/lib/python3.7/dist-packages/sklearn/base.py:566: FutureWarning: Arrays of bytes/strings is being converted to decimal numbers if dtype='numeric'. This behavior is deprecated in 0.24 and will be removed in 1.1 (renaming of 0.26). Please convert your data to numeric values explicitly instead.\n",
            "  X = check_array(X, **check_params)\n",
            "/usr/local/lib/python3.7/dist-packages/sklearn/base.py:566: FutureWarning: Arrays of bytes/strings is being converted to decimal numbers if dtype='numeric'. This behavior is deprecated in 0.24 and will be removed in 1.1 (renaming of 0.26). Please convert your data to numeric values explicitly instead.\n",
            "  X = check_array(X, **check_params)\n",
            "/usr/local/lib/python3.7/dist-packages/sklearn/base.py:566: FutureWarning: Arrays of bytes/strings is being converted to decimal numbers if dtype='numeric'. This behavior is deprecated in 0.24 and will be removed in 1.1 (renaming of 0.26). Please convert your data to numeric values explicitly instead.\n",
            "  X = check_array(X, **check_params)\n",
            "\u001b[34m  Stopping...\u001b[0m\n",
            "^C\n"
          ]
        }
      ]
    }
  ]
}